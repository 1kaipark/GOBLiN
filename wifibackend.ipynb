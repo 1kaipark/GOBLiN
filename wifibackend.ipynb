{
 "cells": [
  {
   "cell_type": "code",
   "execution_count": null,
   "metadata": {},
   "outputs": [],
   "source": [
    "from fabric.core.service import Service"
   ]
  },
  {
   "cell_type": "code",
   "execution_count": null,
   "metadata": {},
   "outputs": [
    {
     "data": {
      "text/plain": [
       "[{'bssid': 'E0:1F:2B:2C:B7:04', 'ssid': 'Lester Wifi', 'security': 'WPA2'},\n",
       " {'bssid': 'F8:9B:6E:D2:EC:34', 'ssid': 'Taiwan No. 1', 'security': 'WPA2'},\n",
       " {'bssid': '90:D0:92:75:C1:04', 'ssid': 'timmers', 'security': 'WPA2'},\n",
       " {'bssid': 'E0:1F:2B:2C:B7:08', 'ssid': 'Lester Wifi', 'security': 'WPA2'},\n",
       " {'bssid': 'E0:1F:2B:2C:B7:0C', 'ssid': 'Lester Wifi', 'security': 'WPA2'},\n",
       " {'bssid': 'E0:1F:2B:2C:B7:0F', 'ssid': '--', 'security': 'WPA2'},\n",
       " {'bssid': '22:EF:BD:64:87:9F', 'ssid': '--', 'security': 'WPA2'},\n",
       " {'bssid': '22:EF:BD:64:87:9F', 'ssid': 'DIRECT-roku-80L-FB419E', 'security': 'WPA2'},\n",
       " {'bssid': '10:C4:CA:A9:98:C4', 'ssid': 'noonecares$', 'security': 'WPA2'},\n",
       " {'bssid': '14:22:3B:27:1D:12', 'ssid': 'The Kendrome', 'security': 'WPA2'},\n",
       " {'bssid': '6C:4B:B4:83:07:F4', 'ssid': 'YellowSubmarine', 'security': 'WPA2'},\n",
       " {'bssid': 'F8:9B:6E:D2:EC:38', 'ssid': 'Taiwan No. 1', 'security': 'WPA2'},\n",
       " {'bssid': 'F8:9B:6E:D2:EC:3C', 'ssid': 'Taiwan No. 1', 'security': 'WPA2'},\n",
       " {'bssid': '5E:E9:31:0E:D2:92', 'ssid': '--', 'security': 'WPA2'},\n",
       " {'bssid': 'F8:9B:6E:D2:EC:3F', 'ssid': '--', 'security': 'WPA2'},\n",
       " {'bssid': '90:D0:92:75:C1:0C', 'ssid': 'timmers', 'security': 'WPA2'},\n",
       " {'bssid': '10:C4:CA:1C:76:54', 'ssid': 'ATT9hSrYbf', 'security': 'WPA2'},\n",
       " {'bssid': '5E:E9:31:1E:D2:92', 'ssid': '--', 'security': 'WPA2'},\n",
       " {'bssid': '6E:54:25:BA:20:9A', 'ssid': '--', 'security': 'WPA2'},\n",
       " {'bssid': 'F8:1A:2B:1F:7A:9A', 'ssid': 'The Kendrome', 'security': 'WPA2'},\n",
       " None,\n",
       " {'bssid': '90:D0:92:75:C1:08', 'ssid': 'timmers', 'security': 'WPA2'},\n",
       " {'bssid': '90:D0:92:75:C1:0F', 'ssid': '--', 'security': 'WPA2'},\n",
       " {'bssid': 'C6:50:9C:46:AB:AE', 'ssid': '--', 'security': 'WPA2'},\n",
       " {'bssid': 'C6:50:9C:46:AB:AF', 'ssid': '--', 'security': 'WPA2'},\n",
       " None,\n",
       " {'bssid': '00:31:92:47:4C:0E', 'ssid': 'Kaz', 'security': 'WPA2'},\n",
       " {'bssid': 'C6:50:9C:46:AB:A9', 'ssid': 'Pillars', 'security': 'WPA2'},\n",
       " {'bssid': '52:57:9C:A7:7B:92', 'ssid': 'DIRECT-pB-EPSON-ET-2720 Series', 'security': 'WPA2'},\n",
       " {'bssid': '90:D0:92:73:F7:C4', 'ssid': 'HennyBenny', 'security': 'WPA2'},\n",
       " {'bssid': '1C:93:7C:6B:F8:AF', 'ssid': 'Holloway', 'security': 'WPA2'},\n",
       " {'bssid': '06:31:92:47:4C:0E', 'ssid': '--', 'security': 'WPA2'},\n",
       " {'bssid': '72:13:01:2F:7A:11', 'ssid': 'masina', 'security': 'WPA2'},\n",
       " {'bssid': '72:13:01:2F:7A:12', 'ssid': '--', 'security': 'WPA2'},\n",
       " {'bssid': '1E:9D:72:CE:E5:96', 'ssid': '--', 'security': 'WPA2'},\n",
       " {'bssid': 'E8:B2:FE:4A:EE:34', 'ssid': 'Newyorker', 'security': 'WPA2'},\n",
       " {'bssid': '58:19:F8:D6:59:FF', 'ssid': 'Africa2TheWorld', 'security': 'WPA2'},\n",
       " None,\n",
       " {'bssid': 'E0:1F:2B:40:65:84', 'ssid': 'ATTGHrWzw3', 'security': 'WPA2'},\n",
       " {'bssid': '72:13:01:2F:7A:14', 'ssid': '--', 'security': 'WPA2'},\n",
       " {'bssid': '82:DA:C2:DC:F6:20', 'ssid': '--', 'security': 'WPA2'},\n",
       " {'bssid': '82:DA:C2:DC:F6:23', 'ssid': 'butchelor-pad', 'security': 'WPA2'},\n",
       " None,\n",
       " {'bssid': '14:22:3B:27:1D:15', 'ssid': 'The Kendrome', 'security': 'WPA2'},\n",
       " {'bssid': '72:13:01:2F:7A:16', 'ssid': '--', 'security': 'WPA2'},\n",
       " {'bssid': '82:DA:C2:DC:F6:26', 'ssid': '--', 'security': 'WPA2'},\n",
       " None,\n",
       " {'bssid': '0E:93:7C:C5:8B:1B', 'ssid': '--', 'security': 'WPA2'},\n",
       " None,\n",
       " None,\n",
       " {'bssid': '80:DA:13:A6:8E:86', 'ssid': 'Rolston1', 'security': 'WPA2'},\n",
       " None,\n",
       " {'bssid': '96:76:3F:48:47:40', 'ssid': '--', 'security': 'WPA2'},\n",
       " {'bssid': '8E:76:3F:48:47:40', 'ssid': '--', 'security': 'WPA2'},\n",
       " {'bssid': 'D0:FC:D0:E1:F2:28', 'ssid': 'Evans home', 'security': 'WPA2'},\n",
       " {'bssid': '10:C4:CA:A9:98:CF', 'ssid': '--', 'security': 'WPA2'},\n",
       " {'bssid': 'A2:FF:70:FE:FD:A5', 'ssid': '--', 'security': 'WPA2'},\n",
       " {'bssid': '16:93:7C:C5:8B:1B', 'ssid': '--', 'security': 'WPA2'},\n",
       " {'bssid': '96:04:E3:DF:70:EC', 'ssid': '--', 'security': 'WPA2'},\n",
       " {'bssid': '96:04:E3:DF:70:EE', 'ssid': '--', 'security': 'WPA2'},\n",
       " {'bssid': 'B4:63:6F:40:1C:04', 'ssid': 'ATTbenakua', 'security': 'WPA2'},\n",
       " {'bssid': '8E:6A:8D:62:FA:76', 'ssid': '--', 'security': 'WPA2'},\n",
       " {'bssid': '8E:6A:8D:62:FA:74', 'ssid': '--', 'security': 'WPA2'},\n",
       " {'bssid': '8C:76:3F:48:47:40', 'ssid': 'crich', 'security': 'WPA2'},\n",
       " {'bssid': '10:C4:CA:A9:98:CC', 'ssid': 'noonecares$', 'security': 'WPA2'},\n",
       " {'bssid': 'A2:FF:70:FE:FD:A3', 'ssid': '--', 'security': 'WPA2'},\n",
       " {'bssid': '4A:BD:CE:E4:1C:0D', 'ssid': 'MHouse', 'security': 'WPA2'},\n",
       " {'bssid': '80:AB:4D:7E:EE:54', 'ssid': 'ASK4IT', 'security': 'WPA2'},\n",
       " {'bssid': 'C2:D2:F3:BE:AB:B0', 'ssid': '--', 'security': 'WPA2'},\n",
       " {'bssid': '4A:BD:CE:E4:1C:0A', 'ssid': '--', 'security': 'WPA2'},\n",
       " {'bssid': '10:C4:CA:A9:98:C8', 'ssid': 'noonecares$', 'security': 'WPA2'}]"
      ]
     },
     "execution_count": 22,
     "metadata": {},
     "output_type": "execute_result"
    }
   ],
   "source": [
    "import subprocess\n",
    "import threading\n",
    "from dataclasses import dataclass\n",
    "import re\n",
    "import time\n",
    "\n",
    "\n",
    "@dataclass\n",
    "class WifiNetworkData:\n",
    "    ssid: str\n",
    "    security: str\n",
    "    connected: bool = False\n",
    "    bssid: str = \"\"\n",
    "    channel: int = 0\n",
    "    speed: str = \"\"\n",
    "    signal_strength: int = 0\n",
    "    bars: str = \"\"\n",
    "\n",
    "    def as_dict(self) -> str:\n",
    "        return {\n",
    "            \"connected\": self.connected,\n",
    "            \"ssid\": self.ssid,\n",
    "            \"security\": self.security,\n",
    "            \"bssid\": self.bssid,\n",
    "            \"channel\": self.channel,\n",
    "            \"speed\": self.speed,\n",
    "            \"signal_strength\": self.signal_strength,\n",
    "            \"bars\": self.bars,\n",
    "        }\n",
    "\n",
    "    def __repr__(self) -> str:\n",
    "        return str(self.as_dict())\n",
    "\n",
    "\n",
    "def remove_ansi(text):\n",
    "    return re.sub(r\"\\x1b\\[[0-9;]*m\", \"\", text)\n",
    "\n",
    "\n",
    "def rescan_wifi():\n",
    "    subprocess.run([\"nmcli\", \"device\", \"wifi\", \"rescan\"], timeout=1)\n",
    "\n",
    "\n",
    "def _serialize_network_entry(network_entry) -> dict:\n",
    "    cleaned_entry = remove_ansi(network_entry)\n",
    "    __match = re.match(\n",
    "        r\"\\s*([\\*\\s])\\s+([\\w:]+)\\s+(.+?)\\s+Infra\\s+(\\d+)\\s+(\\d+\\sMbit/s)\\s+(\\d+)\\s+([▂▄▆_]+)\\s+(WPA2)\",\n",
    "        cleaned_entry,\n",
    "    )\n",
    "    if __match:\n",
    "        return WifiNetworkData(\n",
    "            connected=(__match.group(1) == \"*\"),\n",
    "            bssid=__match.group(2),  # MAC Address\n",
    "            ssid=__match.group(3).strip(),  # Network Name\n",
    "            channel=int(__match.group(4)),  # WiFi Channel\n",
    "            speed=__match.group(5),  # speed\n",
    "            signal_strength=int(__match.group(6)),  # signal strength in dbm\n",
    "            bars=__match.group(7),  # signal representation\n",
    "            security=__match.group(8),  # wpa2/wpa3/etc\n",
    "        )\n",
    "\n",
    "\n",
    "def fetch_full_networks() -> list[dict[str, str]]:\n",
    "    try:\n",
    "        full_networks = subprocess.getoutput(\n",
    "            \"nmcli -f IN-USE,BSSID,SSID,MODE,CHAN,RATE,SIGNAL,BARS,SECURITY dev wifi list\"\n",
    "        ).split(\"\\n\")[1:]  # Skip heades\n",
    "        return [\n",
    "            _serialize_network_entry(entry)\n",
    "            for entry in full_networks\n",
    "            if entry is not None\n",
    "        ]\n",
    "    except Exception as e:\n",
    "        print(e)\n",
    "\n",
    "\n",
    "def disconnect_wifi(connection_name: str) -> bool:\n",
    "    try:\n",
    "        subprocess.run([\"nmcli\", \"con\", \"down\", connection_name], check=True)\n",
    "        return True\n",
    "    except subprocess.CalledProcessError as e:\n",
    "        return False\n",
    "\n",
    "\n",
    "def connect_wifi(\n",
    "    wifi_data: \"WifiNetworkData\",\n",
    "    password: str | None = None,\n",
    "    remember: bool = True,\n",
    ") -> bool:\n",
    "    ssid = wifi_data.ssid\n",
    "    is_secured = wifi_data.security != \"open\"\n",
    "\n",
    "    # Assume no saved profile\n",
    "    if is_secured:\n",
    "        try:\n",
    "            check_saved = subprocess.run(\n",
    "                [\"nmcli\", \"-t\", \"-f\", \"name\", \"connection\", \"show\"],\n",
    "                capture_output=True,\n",
    "                text=True,\n",
    "            )\n",
    "            saved_connections = check_saved.stdout.strip().split(\"\\n\")\n",
    "            has_saved_profile = ssid in saved_connections\n",
    "        except Exception as e:\n",
    "            ...  # TODO\n",
    "            has_saved_profile = False\n",
    "\n",
    "        print(\"Saved connection: \" + str(has_saved_profile))\n",
    "        if has_saved_profile:\n",
    "            up_command = [\"nmcli\", \"con\", \"up\", ssid]\n",
    "            up_result = subprocess.run(up_command, capture_output=True, text=True)\n",
    "            if up_result.returncode == 0:\n",
    "                print(\"Connection activated\")\n",
    "                time.sleep(2)\n",
    "                return True\n",
    "\n",
    "        add_command = [\n",
    "            \"nmcli\",\n",
    "            \"con\",\n",
    "            \"add\",\n",
    "            \"type\",\n",
    "            \"wifi\",\n",
    "            \"con-name\",\n",
    "            ssid,\n",
    "            \"ssid\",\n",
    "            ssid,\n",
    "            \"wifi-sec.key-mgmt\",\n",
    "            \"wpa-psk\",\n",
    "            \"wifi-sec.psk\",\n",
    "            password,\n",
    "        ]\n",
    "\n",
    "        # If user unchecked \"Remember this network\"\n",
    "        if not remember:\n",
    "            add_command.extend([\"connection.autoconnect\", \"no\"])\n",
    "\n",
    "        print(f\"Running command: {' '.join(add_command)}\")\n",
    "\n",
    "        try:\n",
    "            add_result = subprocess.run(add_command, capture_output=True, text=True)\n",
    "            if add_result.returncode == 0:\n",
    "                print(f\"Connection profile created: {add_result.stdout}\")\n",
    "\n",
    "                up_command = [\"nmcli\", \"con\", \"up\", ssid]\n",
    "                up_result = subprocess.run(up_command, capture_output=True, text=True)\n",
    "                if up_result.returncode == 0:\n",
    "                    print(f\"Connection activated: {up_result.stdout}\")\n",
    "                    time.sleep(2)\n",
    "                    return True\n",
    "                else:\n",
    "                    print(f\"Error activating: {up_result.stderr}\")\n",
    "                    return False\n",
    "            else:\n",
    "                print(f\"Error: {add_result.stderr}\")\n",
    "                return False\n",
    "        except Exception as e:\n",
    "            print(str(e))\n",
    "\n",
    "    else:\n",
    "        print(\"Open network\")\n",
    "        try:\n",
    "            # For open networks, create connection without security\n",
    "            add_command = [\n",
    "                \"nmcli\",\n",
    "                \"con\",\n",
    "                \"add\",\n",
    "                \"type\",\n",
    "                \"wifi\",\n",
    "                \"con-name\",\n",
    "                ssid,\n",
    "                \"ssid\",\n",
    "                ssid,\n",
    "            ]\n",
    "            add_result = subprocess.run(add_command, capture_output=True, text=True)\n",
    "\n",
    "            if add_result.returncode == 0:\n",
    "                print(f\"Open connection profile created: {add_result}\")\n",
    "                up_result = subprocess.run(\n",
    "                    [\"nmcli\", \"con\", \"up\", ssid], capture_output=True, text=True\n",
    "                )\n",
    "                if up_result.returncode == 0:\n",
    "                    print(f\"Open connection activated: {up_result}\")\n",
    "                    time.sleep(2)\n",
    "                    return True\n",
    "                else:\n",
    "                    print(\"Nope\")\n",
    "                    return False\n",
    "        except Exception as e:\n",
    "            print(str(e))\n",
    "            return False\n",
    "\n",
    "\n",
    "def forget_wifi(wifi_data: WifiNetworkData) -> bool:\n",
    "    ssid = wifi_data.ssid\n",
    "    try:\n",
    "        subprocess.run([\"nmcli\", \"connection\", \"delete\", ssid], check=True)\n",
    "        return True\n",
    "    except subprocess.CalledProcessError as e:\n",
    "        return False\n",
    "\n",
    "\n",
    "rescan_wifi()\n",
    "networks = fetch_full_networks()\n",
    "networks"
   ]
  },
  {
   "cell_type": "code",
   "execution_count": 8,
   "metadata": {},
   "outputs": [
    {
     "name": "stdout",
     "output_type": "stream",
     "text": [
      "Connection 'Lester Wifi' successfully deactivated (D-Bus active path: /org/freedesktop/NetworkManager/ActiveConnection/8)\n"
     ]
    },
    {
     "data": {
      "text/plain": [
       "True"
      ]
     },
     "execution_count": 8,
     "metadata": {},
     "output_type": "execute_result"
    }
   ],
   "source": [
    "disconnect_wifi(\"Lester Wifi\")"
   ]
  },
  {
   "cell_type": "code",
   "execution_count": 9,
   "metadata": {},
   "outputs": [
    {
     "name": "stdout",
     "output_type": "stream",
     "text": [
      "Connection 'Lester Wifi' (12aaf40c-9459-4aa3-9dd6-071200505069) successfully deleted.\n"
     ]
    },
    {
     "data": {
      "text/plain": [
       "True"
      ]
     },
     "execution_count": 9,
     "metadata": {},
     "output_type": "execute_result"
    }
   ],
   "source": [
    "forget_wifi(networks[0])"
   ]
  },
  {
   "cell_type": "code",
   "execution_count": 10,
   "metadata": {},
   "outputs": [
    {
     "name": "stdout",
     "output_type": "stream",
     "text": [
      "Saved connection: False\n",
      "Running command: nmcli con add type wifi con-name Lester Wifi ssid Lester Wifi wifi-sec.key-mgmt wpa-psk wifi-sec.psk Reed9311\n",
      "Connection profile created: Connection 'Lester Wifi' (8c23a052-d5f5-4e27-86e9-744dc3b6071b) successfully added.\n",
      "\n",
      "Connection activated: Connection successfully activated (D-Bus active path: /org/freedesktop/NetworkManager/ActiveConnection/9)\n",
      "\n"
     ]
    },
    {
     "data": {
      "text/plain": [
       "True"
      ]
     },
     "execution_count": 10,
     "metadata": {},
     "output_type": "execute_result"
    }
   ],
   "source": [
    "connect_wifi(\n",
    "    wifi_data=WifiNetworkData(\n",
    "        ssid=\"Lester Wifi\",\n",
    "        bssid=\"\",\n",
    "        channel=\"\",\n",
    "        speed=\"\",\n",
    "        signal_strength=0,\n",
    "        bars=\"\",\n",
    "        security=\"wpa2\",\n",
    "    ),\n",
    "    password=\"Reed9311\",\n",
    ")"
   ]
  },
  {
   "cell_type": "code",
   "execution_count": 11,
   "metadata": {},
   "outputs": [],
   "source": [
    "full_networks = subprocess.getoutput(\n",
    "    \"nmcli -f IN-USE,BSSID,SSID,MODE,CHAN,RATE,SIGNAL,BARS,SECURITY dev wifi list\"\n",
    ").split(\"\\n\")[1:]\n"
   ]
  },
  {
   "cell_type": "code",
   "execution_count": 20,
   "metadata": {},
   "outputs": [
    {
     "data": {
      "text/plain": [
       "' '"
      ]
     },
     "execution_count": 20,
     "metadata": {},
     "output_type": "execute_result"
    }
   ],
   "source": [
    "test = \"\\x1b[33m*\\x1b[0m       \\x1b[33mE0:1F:2B:2C:B7:08\\x1b[0m  \\x1b[33mLester Wifi\\x1b[0m                     \\x1b[33mInfra\\x1b[0m  \\x1b[33m48\\x1b[0m    \\x1b[33m540 Mbit/s\\x1b[0m  \\x1b[33m60\\x1b[0m      \\x1b[33m▂▄▆_\\x1b[0m  \\x1b[33mWPA2\\x1b[0m        \"\n",
    "test = full_networks[2]\n",
    "cleaned = remove_ansi(test)\n",
    "\n",
    "\n",
    "__match = re.match(\n",
    "    r\"\\s*([\\*\\s])\\s+([\\w:]+)\\s+(.+?)\\s+Infra\\s+(\\d+)\\s+(\\d+\\sMbit/s)\\s+(\\d+)\\s+([▂▄▆_]+)\\s+(WPA2)\",\n",
    "    cleaned,\n",
    ")\n",
    "\n",
    "__match.group(1)"
   ]
  },
  {
   "cell_type": "code",
   "execution_count": 28,
   "metadata": {},
   "outputs": [
    {
     "data": {
      "text/plain": [
       "{'bssid': 'E0:1F:2B:2C:B7:08', 'ssid': 'Lester Wifi', 'security': 'WPA2'}"
      ]
     },
     "execution_count": 28,
     "metadata": {},
     "output_type": "execute_result"
    }
   ],
   "source": [
    "networks[3]"
   ]
  },
  {
   "cell_type": "code",
   "execution_count": null,
   "metadata": {},
   "outputs": [],
   "source": []
  }
 ],
 "metadata": {
  "kernelspec": {
   "display_name": ".venv",
   "language": "python",
   "name": "python3"
  },
  "language_info": {
   "codemirror_mode": {
    "name": "ipython",
    "version": 3
   },
   "file_extension": ".py",
   "mimetype": "text/x-python",
   "name": "python",
   "nbconvert_exporter": "python",
   "pygments_lexer": "ipython3",
   "version": "3.13.2"
  }
 },
 "nbformat": 4,
 "nbformat_minor": 2
}
